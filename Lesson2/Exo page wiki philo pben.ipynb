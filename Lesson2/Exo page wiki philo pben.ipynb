{
 "cells": [
  {
   "cell_type": "code",
   "execution_count": 83,
   "metadata": {},
   "outputs": [],
   "source": [
    "from bs4 import BeautifulSoup\n",
    "import requests"
   ]
  },
  {
   "cell_type": "code",
   "execution_count": 84,
   "metadata": {},
   "outputs": [],
   "source": [
    "def find_link(urls):\n",
    "    # retourne le premier lien de la page\n",
    "    \n",
    "    link = None\n",
    "\n",
    "    # on lit la page\n",
    "    content = requests.get(urls[-1])\n",
    "    soup = BeautifulSoup(content.text)\n",
    "    \n",
    "    #  on remplit l'ensemble des paragraphes\n",
    "    paragraphs = soup.select(\"p\")\n",
    "    \n",
    "    # puis on regarde dans chaque paragraphe\n",
    "    for p in paragraphs:\n",
    "        paragraphsbis = p.select(\"a\")\n",
    "        for p2 in paragraphsbis:\n",
    "            link = \"https://fr.wikipedia.org\" + p2.get('href')\n",
    "            if link not in urls:\n",
    "                return link # on s'arrete dès qu'on a trouvé un lien pas encore visité\n",
    "       \n",
    "    return link"
   ]
  },
  {
   "cell_type": "code",
   "execution_count": 85,
   "metadata": {},
   "outputs": [
    {
     "name": "stdout",
     "output_type": "stream",
     "text": [
      "start = https://fr.wikipedia.org/wiki/Math%C3%A9matiques\n",
      "deadend\n",
      "distance parcourue = 9\n",
      "https://fr.wikipedia.org/wiki/Math%C3%A9matiques\n",
      "https://fr.wikipedia.org/wiki/Connaissance\n",
      "https://fr.wikipedia.org/wiki/Notion\n",
      "https://fr.wikipedia.org/wiki/Aide:Comment_modifier_une_page\n",
      "https://fr.wikipedia.org/wiki/Aide:%C3%89diteurVisuel\n",
      "https://fr.wikipedia.org/wiki/Fichier:VisualEditor_-_Icon_-_Expand.svg\n",
      "https://fr.wikipedia.org//upload.wikimedia.org/wikipedia/commons/2/2f/VisualEditor_-_Icon_-_Expand.svg\n",
      "https://fr.wikipedia.org/wiki//upload.wikimedia.org/wikipedia/commons/2/2f/VisualEditor_-_Icon_-_Expand.svg\n",
      "https://fr.wikipedia.org/wiki/Sp%C3%A9cial:Matrice_des_sites\n"
     ]
    }
   ],
   "source": [
    "url_start = \"https://fr.wikipedia.org/wiki/Math%C3%A9matiques\"\n",
    "url_stop = \"https://fr.wikipedia.org/wiki/Philosophie\"\n",
    "\n",
    "urls = []\n",
    "\n",
    "urls.append(url_start)\n",
    "print(\"start = {}\".format(url_start))\n",
    "\n",
    "while link != url_stop:\n",
    "    link = find_link(urls)\n",
    "    if not link:\n",
    "        break\n",
    "\n",
    "    urls.append(link)\n",
    "\n",
    "if link:\n",
    "    print(\"cible atteinte\")\n",
    "else:\n",
    "    print(\"deadend\")\n",
    "    \n",
    "print(\"distance parcourue = {}\".format(len(urls)))\n",
    "for url in urls:\n",
    "    print(url)"
   ]
  },
  {
   "cell_type": "code",
   "execution_count": null,
   "metadata": {},
   "outputs": [],
   "source": []
  }
 ],
 "metadata": {
  "kernelspec": {
   "display_name": "Python 3",
   "language": "python",
   "name": "python3"
  },
  "language_info": {
   "codemirror_mode": {
    "name": "ipython",
    "version": 3
   },
   "file_extension": ".py",
   "mimetype": "text/x-python",
   "name": "python",
   "nbconvert_exporter": "python",
   "pygments_lexer": "ipython3",
   "version": "3.7.1"
  }
 },
 "nbformat": 4,
 "nbformat_minor": 4
}
