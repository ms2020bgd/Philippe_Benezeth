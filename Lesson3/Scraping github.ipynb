{
 "cells": [
  {
   "cell_type": "code",
   "execution_count": 1,
   "metadata": {},
   "outputs": [],
   "source": [
    "import requests\n",
    "from bs4 import BeautifulSoup\n",
    "\n",
    "def get_soup_from_url(url):\n",
    "    res = requests.get(url)\n",
    "    soup = BeautifulSoup(res.content, 'html.parser')\n",
    "    return soup\n"
   ]
  },
  {
   "cell_type": "code",
   "execution_count": 2,
   "metadata": {},
   "outputs": [
    {
     "name": "stdout",
     "output_type": "stream",
     "text": [
      "['Fabien Potencier', 'Andrew Nesbitt', 'Taylor Otwell', 'EGOIST']\n",
      "['https://github.com/fabpot', 'https://github.com/andrew', 'https://github.com/taylorotwell', 'https://github.com/egoist']\n"
     ]
    }
   ],
   "source": [
    "url = \"https://gist.github.com/paulmillr/2657075\"\n",
    "soup = get_soup_from_url(url)\n",
    "td_table = soup.find_all(\"td\")\n",
    "compteur = 0\n",
    "names =[]\n",
    "urls =[]\n",
    "for t in td_table:\n",
    "        \n",
    "        if compteur % 4 == 0:\n",
    "            names.append(t.text[len(t.find(\"a\").text)+2:-1])\n",
    "            urls.append(t.find(\"a\").get('href'))\n",
    "            #print(t.find(\"a\").text)\n",
    "        compteur += 1\n",
    "        if compteur == 13:# il faut 1022\n",
    "            break\n",
    "print(names)\n",
    "print(urls)"
   ]
  },
  {
   "cell_type": "code",
   "execution_count": null,
   "metadata": {},
   "outputs": [],
   "source": []
  }
 ],
 "metadata": {
  "kernelspec": {
   "display_name": "Python 3",
   "language": "python",
   "name": "python3"
  },
  "language_info": {
   "codemirror_mode": {
    "name": "ipython",
    "version": 3
   },
   "file_extension": ".py",
   "mimetype": "text/x-python",
   "name": "python",
   "nbconvert_exporter": "python",
   "pygments_lexer": "ipython3",
   "version": "3.7.1"
  }
 },
 "nbformat": 4,
 "nbformat_minor": 2
}
